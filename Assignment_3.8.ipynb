{
 "cells": [
  {
   "cell_type": "markdown",
   "id": "1f4fd451",
   "metadata": {},
   "source": [
    "# ANSWERS FOR ASSIGNMENT 3.8"
   ]
  },
  {
   "cell_type": "markdown",
   "id": "a9f964a0",
   "metadata": {},
   "source": [
    "# Number 1"
   ]
  },
  {
   "cell_type": "code",
   "execution_count": null,
   "id": "e209b9e4",
   "metadata": {
    "scrolled": true
   },
   "outputs": [],
   "source": [
    "import random\n",
    "\n",
    "for i in range(0,50):\n",
    "    r1 = random.randint(3, 6)\n",
    "    print(f'Random integer is:', r1)"
   ]
  },
  {
   "cell_type": "markdown",
   "id": "ce06d9fe",
   "metadata": {},
   "source": [
    "# Number 2"
   ]
  },
  {
   "cell_type": "code",
   "execution_count": null,
   "id": "a97a4ae1",
   "metadata": {},
   "outputs": [],
   "source": [
    "x = random.randint(1, 50)\n",
    "y = random.randint(2, 5)\n",
    "\n",
    "pow_num= pow(x,y)\n",
    "\n",
    "print(f'The result is:', pow_num)"
   ]
  },
  {
   "cell_type": "markdown",
   "id": "fdd14a37",
   "metadata": {},
   "source": [
    "# Number 3"
   ]
  },
  {
   "cell_type": "code",
   "execution_count": null,
   "id": "7128a0ba",
   "metadata": {},
   "outputs": [],
   "source": [
    "num = random.randint(1, 10)\n",
    "print(num)\n",
    "\n",
    "for i in range(0,num):\n",
    "    print(\"Leah\")"
   ]
  },
  {
   "cell_type": "markdown",
   "id": "8f47b49f",
   "metadata": {},
   "source": [
    "# Number 4"
   ]
  },
  {
   "cell_type": "code",
   "execution_count": null,
   "id": "fd8f2e00",
   "metadata": {},
   "outputs": [],
   "source": [
    "num= round(random.uniform(1,10),2)\n",
    "\n",
    "print(f'Generated Decimal Number is:', num)"
   ]
  },
  {
   "cell_type": "markdown",
   "id": "5dda4ccb",
   "metadata": {},
   "source": [
    "# Number 5"
   ]
  },
  {
   "cell_type": "code",
   "execution_count": null,
   "id": "6f2e47f1",
   "metadata": {},
   "outputs": [],
   "source": []
  },
  {
   "cell_type": "markdown",
   "id": "65d541e2",
   "metadata": {},
   "source": [
    "# Number 6"
   ]
  },
  {
   "cell_type": "code",
   "execution_count": null,
   "id": "eb8e755e",
   "metadata": {},
   "outputs": [],
   "source": [
    "#Number 6: \n",
    "x= int(input(\"Enter value of X: \"  ))"
   ]
  },
  {
   "cell_type": "code",
   "execution_count": null,
   "id": "03e19713",
   "metadata": {},
   "outputs": [],
   "source": [
    "y=int(input(\"Enter value of Y: \"))"
   ]
  },
  {
   "cell_type": "code",
   "execution_count": null,
   "id": "706e0c61",
   "metadata": {},
   "outputs": [],
   "source": [
    "a=abs(x-y)\n",
    "b= x+y\n",
    "\n",
    "result= a/b\n",
    "\n",
    "print(f'The result is:', result)"
   ]
  },
  {
   "cell_type": "markdown",
   "id": "a6511ddf",
   "metadata": {},
   "source": [
    "# Number 7"
   ]
  },
  {
   "cell_type": "code",
   "execution_count": null,
   "id": "a8a18796",
   "metadata": {},
   "outputs": [],
   "source": [
    "angle= int(input(\"Enter the value of the angle: \"))"
   ]
  },
  {
   "cell_type": "code",
   "execution_count": null,
   "id": "47f919ab",
   "metadata": {},
   "outputs": [],
   "source": [
    "angle= angle % 360\n",
    "\n",
    "\n",
    "print(angle)"
   ]
  },
  {
   "cell_type": "markdown",
   "id": "87d9ca6e",
   "metadata": {},
   "source": [
    "# Number 8"
   ]
  },
  {
   "cell_type": "code",
   "execution_count": null,
   "id": "24b31c70",
   "metadata": {},
   "outputs": [],
   "source": [
    "seconds= int(input(\"Enter the number of seconds: \"))"
   ]
  },
  {
   "cell_type": "code",
   "execution_count": null,
   "id": "e7fba19b",
   "metadata": {},
   "outputs": [],
   "source": [
    "mins= seconds/60\n",
    "secs= seconds%60\n",
    "\n",
    "print(f'Results:',mins,'Minutes and',secs,'Seconds')"
   ]
  },
  {
   "cell_type": "markdown",
   "id": "05fee9d9",
   "metadata": {},
   "source": [
    "# Number 9"
   ]
  },
  {
   "cell_type": "code",
   "execution_count": null,
   "id": "2a8e67e5",
   "metadata": {},
   "outputs": [],
   "source": [
    "Time= int(input(\"Enter hour: \"))"
   ]
  },
  {
   "cell_type": "code",
   "execution_count": null,
   "id": "381252f3",
   "metadata": {},
   "outputs": [],
   "source": [
    "hrs_ahead=int(input(\"Enter hours ahead: \"))"
   ]
  },
  {
   "cell_type": "code",
   "execution_count": null,
   "id": "d3d0aad9",
   "metadata": {},
   "outputs": [],
   "source": [
    "sum_hrs=Time+hrs_ahead\n",
    "\n",
    "New_hr=sum_hrs-12\n",
    "\n",
    "print(\"The New Hour is:\", New_hr,\"o'clock\")"
   ]
  },
  {
   "cell_type": "markdown",
   "id": "4a281a76",
   "metadata": {},
   "source": [
    "# Number 10 A"
   ]
  },
  {
   "cell_type": "code",
   "execution_count": null,
   "id": "db9a39e5",
   "metadata": {
    "scrolled": true
   },
   "outputs": [],
   "source": [
    "num= int(input(\"Enter a power: \"))"
   ]
  },
  {
   "cell_type": "code",
   "execution_count": null,
   "id": "2dbb9753",
   "metadata": {},
   "outputs": [],
   "source": [
    "last_digit= (pow(2,num) % 10)\n",
    "\n",
    "print(last_digit)"
   ]
  },
  {
   "cell_type": "markdown",
   "id": "eac939e1",
   "metadata": {},
   "source": [
    "# Number 10 B"
   ]
  },
  {
   "cell_type": "code",
   "execution_count": null,
   "id": "22ae0050",
   "metadata": {},
   "outputs": [],
   "source": [
    "two_last_digits= (pow(2,num) % 100)\n",
    "\n",
    "print(two_last_digits)"
   ]
  },
  {
   "cell_type": "markdown",
   "id": "03b32599",
   "metadata": {},
   "source": [
    "# Number 10 C"
   ]
  },
  {
   "cell_type": "code",
   "execution_count": null,
   "id": "eefe89e1",
   "metadata": {},
   "outputs": [],
   "source": [
    "num_power= int(input(\"Enter a power: \"))"
   ]
  },
  {
   "cell_type": "code",
   "execution_count": null,
   "id": "6556d0d5",
   "metadata": {},
   "outputs": [],
   "source": [
    "digits= int(input(\"Enter the number of digits: \"))"
   ]
  },
  {
   "cell_type": "code",
   "execution_count": null,
   "id": "19a3df1d",
   "metadata": {},
   "outputs": [],
   "source": [
    "results= (pow(2,num_power) % (pow(10, digits)))\n",
    "\n",
    "print(results)     "
   ]
  },
  {
   "cell_type": "markdown",
   "id": "19cc662d",
   "metadata": {},
   "source": [
    "# Number 11"
   ]
  },
  {
   "cell_type": "code",
   "execution_count": null,
   "id": "1223488b",
   "metadata": {},
   "outputs": [],
   "source": [
    "weight= int(input(\"Enter weight in KGS: \"))"
   ]
  },
  {
   "cell_type": "code",
   "execution_count": null,
   "id": "f4c95d3b",
   "metadata": {},
   "outputs": [],
   "source": [
    "pounds= round((weight * 2.20462),1)\n",
    "\n",
    "print(pounds)"
   ]
  },
  {
   "cell_type": "markdown",
   "id": "7bb0d855",
   "metadata": {},
   "source": [
    "# Number 12"
   ]
  },
  {
   "cell_type": "code",
   "execution_count": null,
   "id": "4ae1acb2",
   "metadata": {},
   "outputs": [],
   "source": [
    "fact_num=int(input(\"Enter any number: \"))"
   ]
  },
  {
   "cell_type": "code",
   "execution_count": null,
   "id": "2b51cfc0",
   "metadata": {},
   "outputs": [],
   "source": [
    "factorial=1\n",
    "\n",
    "if (fact_num<0):\n",
    "    print(\"Sorry factorial doesn't exist\")\n",
    "\n",
    "elif (fact_num==1):\n",
    "    print(\"Factorial is equal to 1\")\n",
    "\n",
    "else:\n",
    "    for i in range(1, (fact_num +1)):\n",
    "        factorial =factorial * i\n",
    "    print(f\"The fatorial of\", fact_num, \"is:\", factorial)"
   ]
  },
  {
   "cell_type": "markdown",
   "id": "c033f7ee",
   "metadata": {},
   "source": [
    "# Number 13"
   ]
  },
  {
   "cell_type": "code",
   "execution_count": null,
   "id": "7fd321ea",
   "metadata": {},
   "outputs": [],
   "source": [
    "entry=int(input(\"Enter a number: \"))"
   ]
  },
  {
   "cell_type": "code",
   "execution_count": null,
   "id": "1a206624",
   "metadata": {},
   "outputs": [],
   "source": [
    "import math\n",
    "print(f\"Sine: \", math.sin(entry),\" , Cosine: \" ,math.cos(entry),\", Tangent: \", math.tan(entry))"
   ]
  },
  {
   "cell_type": "markdown",
   "id": "fa762d77",
   "metadata": {},
   "source": [
    "# Number 14\n"
   ]
  },
  {
   "cell_type": "code",
   "execution_count": null,
   "id": "f7e6e256",
   "metadata": {},
   "outputs": [],
   "source": [
    "degrees= int(input(\"Enter degrees: \"))"
   ]
  },
  {
   "cell_type": "code",
   "execution_count": null,
   "id": "90e3546d",
   "metadata": {},
   "outputs": [],
   "source": [
    "print(math.sin(math.radians(degrees)))"
   ]
  }
 ],
 "metadata": {
  "kernelspec": {
   "display_name": "Python 3 (ipykernel)",
   "language": "python",
   "name": "python3"
  },
  "language_info": {
   "codemirror_mode": {
    "name": "ipython",
    "version": 3
   },
   "file_extension": ".py",
   "mimetype": "text/x-python",
   "name": "python",
   "nbconvert_exporter": "python",
   "pygments_lexer": "ipython3",
   "version": "3.8.12"
  }
 },
 "nbformat": 4,
 "nbformat_minor": 5
}
